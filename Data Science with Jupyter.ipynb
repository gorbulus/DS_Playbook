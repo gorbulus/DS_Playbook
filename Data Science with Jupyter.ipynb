{
 "cells": [
  {
   "cell_type": "code",
   "execution_count": 1,
   "metadata": {},
   "outputs": [],
   "source": [
    "%load_ext sql"
   ]
  },
  {
   "cell_type": "code",
   "execution_count": 2,
   "metadata": {},
   "outputs": [
    {
     "name": "stdout",
     "output_type": "stream",
     "text": [
      "Done.\n"
     ]
    },
    {
     "data": {
      "text/html": [
       "<table>\n",
       "    <tr>\n",
       "        <th>message_1</th>\n",
       "        <th>message_2</th>\n",
       "    </tr>\n",
       "    <tr>\n",
       "        <td>Hello</td>\n",
       "        <td>World from SQLITE</td>\n",
       "    </tr>\n",
       "</table>"
      ],
      "text/plain": [
       "[('Hello', 'World from SQLITE')]"
      ]
     },
     "execution_count": 2,
     "metadata": {},
     "output_type": "execute_result"
    }
   ],
   "source": [
    "%%sql sqlite://\n",
    "\n",
    "    # Execute SQL commands from the iPyton interface\n",
    "SELECT * \n",
    "FROM (\n",
    "    SELECT 'Hello' as message_1) A JOIN ( SELECT 'World from SQLITE' as message_2) B;"
   ]
  },
  {
   "cell_type": "code",
   "execution_count": null,
   "metadata": {},
   "outputs": [],
   "source": []
  }
 ],
 "metadata": {
  "kernelspec": {
   "display_name": "Python 3",
   "language": "python",
   "name": "python3"
  },
  "language_info": {
   "codemirror_mode": {
    "name": "ipython",
    "version": 3
   },
   "file_extension": ".py",
   "mimetype": "text/x-python",
   "name": "python",
   "nbconvert_exporter": "python",
   "pygments_lexer": "ipython3",
   "version": "3.7.1"
  }
 },
 "nbformat": 4,
 "nbformat_minor": 2
}
